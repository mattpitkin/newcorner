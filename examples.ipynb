{
 "cells": [
  {
   "cell_type": "markdown",
   "metadata": {},
   "source": [
    "# Some examples using scotchcorner"
   ]
  },
  {
   "cell_type": "code",
   "execution_count": 1,
   "metadata": {
    "collapsed": false
   },
   "outputs": [],
   "source": [
    "%matplotlib inline\n",
    "\n",
    "import numpy as np\n",
    "from scotchcorner import scotchcorner as sc"
   ]
  },
  {
   "cell_type": "code",
   "execution_count": null,
   "metadata": {
    "collapsed": false
   },
   "outputs": [],
   "source": [
    "# a 2d joint distribution plot\n",
    "\n",
    "# number of parameters\n",
    "ndims = 2\n",
    "\n",
    "# ratio of joint plots to histogram plots\n",
    "ratio = 3\n",
    "\n",
    "datatitle = '$x$'\n",
    "z = np.random.randn(2000,ndims)\n",
    "z[:,0] = np.abs(z[:,0])*1e-6\n",
    "z[:,1] = z[:,1]\n",
    "limits = [(0., None), ()]\n",
    "print z.shape[1]\n",
    "#limits = None\n",
    "p2 = sc(z, hist_kwargs={'histtype': 'stepfilled', 'color': 'blue', 'linewidth': 1}, showlims='both',\n",
    "        showpoints=True, showcontours=True, show_level_labels=False,\n",
    "        contour_kwargs={'colors': 'blue'}, limits=limits, datatitle=datatitle)"
   ]
  },
  {
   "cell_type": "code",
   "execution_count": null,
   "metadata": {
    "collapsed": false
   },
   "outputs": [],
   "source": [
    "# number of parameters\n",
    "ndims = 4\n",
    "\n",
    "# ratio of joint plots to histogram plots\n",
    "ratio = 3\n",
    "\n",
    "x = np.zeros((2000,ndims))\n",
    "x[:,0:2] = np.random.randn(2000,2)\n",
    "x[0:500,2] = -1. + 0.25*np.random.randn(500)\n",
    "x[500:2000,2] = 3. + 1.25*np.random.randn(1500)\n",
    "x[0:1000, 3] = 1.*np.random.randn(1000)\n",
    "x[1000:2000, 3] = 3.+0.75*np.random.randn(1000)\n",
    "x[:,0] = x[:,0]*1e-6\n",
    "x[:,1] = x[:,1]*1e-8\n",
    "x[:,3] = x[:,3]*1e-10\n",
    "\n",
    "showlims = 'both'\n",
    "\n",
    "labels = ['$\\\\textrm{b}$', '$x$', '$\\phi$', '$y$ [$\\\\textrm{s}$]']\n",
    "\n",
    "histops = {'histtype': 'stepfilled', 'color': 'darkslategrey', 'edgecolor': 'black', 'linewidth': 1.5}\n",
    "\n",
    "# create plot\n",
    "p = sc(x, labels=labels, truths=[0., 1.52e-8, 0., 0.], showlims=showlims,\n",
    "       hist_kwargs=histops, datatitle='Data 1', figsize=(10,10))\n",
    "\n",
    "z = np.random.randn(2000,ndims)\n",
    "z[:,0] = z[:,0]*1e-6\n",
    "z[:,1] = z[:,1]*1e-8\n",
    "z[:,3] = z[:,3]*1e-10\n",
    "p.add_data(z, hist_kwargs={'histtype': 'step', 'color': 'blue', 'linewidth': 1}, datatitle='Data 2',\n",
    "           showcontours=True, contour_kwargs={'colors': 'blue'})"
   ]
  },
  {
   "cell_type": "code",
   "execution_count": null,
   "metadata": {
    "collapsed": true
   },
   "outputs": [],
   "source": []
  }
 ],
 "metadata": {
  "kernelspec": {
   "display_name": "Python 2",
   "language": "python",
   "name": "python2"
  },
  "language_info": {
   "codemirror_mode": {
    "name": "ipython",
    "version": 2
   },
   "file_extension": ".py",
   "mimetype": "text/x-python",
   "name": "python",
   "nbconvert_exporter": "python",
   "pygments_lexer": "ipython2",
   "version": "2.7.9"
  }
 },
 "nbformat": 4,
 "nbformat_minor": 0
}
